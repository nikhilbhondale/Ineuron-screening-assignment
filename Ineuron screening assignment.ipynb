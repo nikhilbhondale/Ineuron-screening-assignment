{
 "cells": [
  {
   "cell_type": "markdown",
   "id": "c6205517",
   "metadata": {},
   "source": [
    "Create a function in python to read the text file and replace specific content\n",
    "of the file."
   ]
  },
  {
   "cell_type": "code",
   "execution_count": 1,
   "id": "7ceef990",
   "metadata": {},
   "outputs": [],
   "source": [
    "f=open(\"example1.txt\",\"w\")"
   ]
  },
  {
   "cell_type": "code",
   "execution_count": 2,
   "id": "c42df12f",
   "metadata": {},
   "outputs": [
    {
     "name": "stdout",
     "output_type": "stream",
     "text": [
      " Volume in drive C has no label.\n",
      " Volume Serial Number is ECAB-FA29\n",
      "\n",
      " Directory of C:\\Users\\lenovo\n",
      "\n",
      "07-06-2022  12:22    <DIR>          .\n",
      "07-06-2022  12:22    <DIR>          ..\n",
      "15-05-2022  19:13    <DIR>          .conda\n",
      "17-05-2022  11:21    <DIR>          .cufflinks\n",
      "18-03-2022  22:21               215 .gitconfig\n",
      "13-03-2022  21:31    <DIR>          .idlerc\n",
      "06-06-2022  20:55    <DIR>          .ipynb_checkpoints\n",
      "02-02-2022  16:57    <DIR>          .ipython\n",
      "13-03-2022  21:24    <DIR>          .jupyter\n",
      "02-02-2022  17:05    <DIR>          .matplotlib\n",
      "08-02-2022  18:42                19 .popsql.json\n",
      "13-03-2022  18:53    <DIR>          .spyder-py3\n",
      "03-02-2022  19:06    <DIR>          .vscode\n",
      "02-02-2022  19:36    <DIR>          3D Objects\n",
      "22-05-2022  15:49    <DIR>          anaconda3\n",
      "02-02-2022  19:36    <DIR>          Contacts\n",
      "30-03-2022  12:21    <DIR>          Desktop\n",
      "15-03-2022  22:58    <DIR>          Developer_ENU\n",
      "19-05-2022  16:25           210,469 df1.csv\n",
      "04-02-2022  10:59    <DIR>          Documents\n",
      "06-06-2022  09:56    <DIR>          Downloads\n",
      "07-06-2022  11:29                31 example.txt\n",
      "07-06-2022  12:24                 0 example1.txt\n",
      "02-02-2022  19:36    <DIR>          Favorites\n",
      "20-05-2022  10:31           271,734 Feature Engineering.ipynb\n",
      "07-06-2022  00:01                28 file.txt\n",
      "22-05-2022  20:05           135,610 Flight price prediction.ipynb\n",
      "16-05-2022  17:59         1,932,539 flights.html\n",
      "13-03-2022  18:39            23,112 harry python.ipynb\n",
      "09-05-2022  10:05           125,829 Homework-pandas-titanic_Bank.ipynb\n",
      "12-05-2022  11:43            20,510 House_sales.ipynb\n",
      "12-05-2022  11:43            20,522 House_Sales_in_King_Count_USA (1).ipynb\n",
      "19-05-2022  18:30           307,479 Hypothesis_Testing.ipynb\n",
      "02-02-2022  17:45            14,844 ineuron 2nd stats practical.ipynb\n",
      "21-05-2022  10:00         1,416,017 Ineuron EDA 1ST PART.ipynb\n",
      "20-05-2022  11:35            28,617 Ineuron EDA 2nd.ipynb\n",
      "04-06-2022  19:37            18,138 ineuron function 1 and 2.ipynb\n",
      "06-06-2022  23:47            17,894 Ineuron function task 20 ques.ipynb\n",
      "18-05-2022  15:04            75,179 iNEURON STATS 2ND DAY.ipynb\n",
      "19-05-2022  18:33             2,798 Ineuron stats z-test .ipynb\n",
      "08-05-2022  12:25            36,615 json_res.csv\n",
      "02-02-2022  19:36    <DIR>          Links\n",
      "17-05-2022  13:29           886,548 Matplotlib_ineuron 2nd part.ipynb\n",
      "22-04-2022  14:11             8,009 maxgen test.ipynb\n",
      "22-04-2022  14:55             2,338 Maxgen1.ipynb\n",
      "28-03-2022  21:39    <DIR>          Microsoft\n",
      "19-05-2022  15:22    <DIR>          Music\n",
      "12-05-2022  12:40            76,437 Nikhil House sales 2nd ans.ipynb\n",
      "12-05-2022  12:06            34,906 Nikhil_House sale data 2 nd ans.ipynb\n",
      "13-05-2022  23:45            50,872 Numpy Ineuron 1st part.ipynb\n",
      "14-05-2022  21:42            27,560 Numpy Ineuron 2.ipynb\n",
      "20-05-2022  15:01            11,072 numpy practice .ipynb\n",
      "04-06-2022  17:48    <DIR>          OneDrive\n",
      "08-05-2022  21:24            96,779 pandas 3 ineuron.ipynb\n",
      "09-05-2022  21:23           224,748 pandas 4th ineuron.ipynb\n",
      "08-05-2022  09:10             4,912 pandas part 1.ipynb\n",
      "16-05-2022  15:12           494,762 pandas part 2 ineuron.ipynb\n",
      "17-05-2022  09:29         1,747,481 plotly-Matplotlib ineuron 1st .ipynb\n",
      "15-05-2022  18:13    <DIR>          Postman\n",
      "25-05-2022  23:38    <DIR>          PycharmProjects\n",
      "25-05-2022  21:18             1,839 Python assignment 1.ipynb\n",
      "07-05-2022  18:08               259 sample.test.csv\n",
      "02-02-2022  19:36    <DIR>          Saved Games\n",
      "17-05-2022  11:13    <DIR>          seaborn-data\n",
      "02-02-2022  19:36    <DIR>          Searches\n",
      "18-02-2022  22:49            31,743 SQL ineuron 1st.ipynb\n",
      "21-05-2022  13:37            81,064 Techncolab task 2.ipynb\n",
      "06-06-2022  19:14               206 test.log\n",
      "17-05-2022  11:22    <DIR>          Untitled Folder\n",
      "17-05-2022  11:22    <DIR>          Untitled Folder 1\n",
      "17-05-2022  11:22    <DIR>          Untitled Folder 2\n",
      "05-06-2022  23:21    <DIR>          Untitled Folder 3\n",
      "02-02-2022  17:45            14,844 Untitled.ipynb\n",
      "05-02-2022  20:10               897 Untitled1.ipynb\n",
      "27-03-2022  21:07             1,255 Untitled10.ipynb\n",
      "15-04-2022  14:58             4,841 Untitled11.ipynb\n",
      "15-04-2022  14:59                72 Untitled12.ipynb\n",
      "15-04-2022  15:01             1,668 Untitled13.ipynb\n",
      "15-04-2022  17:43               588 Untitled14.ipynb\n",
      "18-04-2022  13:59               588 Untitled15.ipynb\n",
      "19-04-2022  13:45                72 Untitled16.ipynb\n",
      "20-04-2022  17:27             6,362 Untitled17.ipynb\n",
      "20-04-2022  18:19             7,595 Untitled18.ipynb\n",
      "20-04-2022  21:27             2,012 Untitled19.ipynb\n",
      "08-02-2022  21:53               945 Untitled2.ipynb\n",
      "21-04-2022  09:36             5,279 Untitled20.ipynb\n",
      "21-04-2022  13:49                72 Untitled21.ipynb\n",
      "16-05-2022  18:02         2,745,450 Untitled22.ipynb\n",
      "17-05-2022  09:29                72 Untitled23.ipynb\n",
      "19-05-2022  10:31               588 Untitled24.ipynb\n",
      "21-05-2022  19:22           543,232 Untitled25.ipynb\n",
      "07-06-2022  12:22            14,977 Untitled26.ipynb\n",
      "22-05-2022  17:14               588 Untitled27.ipynb\n",
      "07-03-2022  20:52               898 Untitled3.ipynb\n",
      "17-02-2022  17:56               588 Untitled4.ipynb\n",
      "17-02-2022  18:37                72 Untitled5.ipynb\n",
      "17-02-2022  18:39                72 Untitled6.ipynb\n",
      "13-03-2022  18:57               897 Untitled7.ipynb\n",
      "14-03-2022  00:13            35,746 Untitled8.ipynb\n",
      "27-03-2022  18:25               749 Untitled9.ipynb\n",
      "02-02-2022  19:36    <DIR>          Videos\n",
      "              68 File(s)     11,830,753 bytes\n",
      "              33 Dir(s)  133,692,059,648 bytes free\n"
     ]
    }
   ],
   "source": [
    "%ls"
   ]
  },
  {
   "cell_type": "code",
   "execution_count": 3,
   "id": "3a197090",
   "metadata": {},
   "outputs": [],
   "source": [
    "f=open(\"example1.txt\",\"w\")"
   ]
  },
  {
   "cell_type": "code",
   "execution_count": 4,
   "id": "92dc84fb",
   "metadata": {},
   "outputs": [
    {
     "data": {
      "text/plain": [
       "49"
      ]
     },
     "execution_count": 4,
     "metadata": {},
     "output_type": "execute_result"
    }
   ],
   "source": [
    "f.write(\"This is a placement assignment in my example1.txt\")"
   ]
  },
  {
   "cell_type": "code",
   "execution_count": 5,
   "id": "3af7b1d4",
   "metadata": {},
   "outputs": [],
   "source": [
    "f.close()"
   ]
  },
  {
   "cell_type": "code",
   "execution_count": null,
   "id": "55d958da",
   "metadata": {},
   "outputs": [],
   "source": []
  },
  {
   "cell_type": "code",
   "execution_count": 6,
   "id": "c678b66b",
   "metadata": {},
   "outputs": [
    {
     "name": "stdout",
     "output_type": "stream",
     "text": [
      "Enter text to replace the existing contents:This is a screening assignment\n",
      "Text successfully replaced\n"
     ]
    }
   ],
   "source": [
    "# Python program to replace text in a file\n",
    "\n",
    "s = input(\"Enter text to replace the existing contents:\")\n",
    "f = open(\"example.txt\", \"r+\")\n",
    "\n",
    "''' this is a function in python to read the text file and replace specific content\n",
    "of the file.'''\n",
    "    \n",
    "f.truncate(0)\n",
    "f.write(s)\n",
    "f.close()\n",
    "print(\"Text successfully replaced\")\n"
   ]
  },
  {
   "cell_type": "code",
   "execution_count": null,
   "id": "4ed22b37",
   "metadata": {},
   "outputs": [],
   "source": []
  },
  {
   "cell_type": "markdown",
   "id": "5bc76544",
   "metadata": {},
   "source": [
    "#Demonstrate use of abstract class, multiple inheritance and decorator in\n",
    "#python using examples."
   ]
  },
  {
   "cell_type": "code",
   "execution_count": 7,
   "id": "9cb8be1d",
   "metadata": {},
   "outputs": [],
   "source": [
    "class social_media:\n",
    "    def share_stories(self) :\n",
    "        print(\"share a stroies\")\n",
    "    def upload_pic(self) :\n",
    "        print(\"this will help you to upload pic on social media\")\n",
    "        \n",
    "class facebook(social_media) :\n",
    "    def share_stories(self):\n",
    "        print(\"this is a fun for sharing an story for facebook\")\n",
    "    \n",
    "class insta(social_media):\n",
    "    def share_stories(self) :\n",
    "        print(\"this will print a story from insta\")\n",
    "    \n"
   ]
  },
  {
   "cell_type": "code",
   "execution_count": 8,
   "id": "71e8ec17",
   "metadata": {},
   "outputs": [],
   "source": [
    "f = facebook()\n",
    "i = insta()"
   ]
  },
  {
   "cell_type": "code",
   "execution_count": 9,
   "id": "dae90823",
   "metadata": {},
   "outputs": [
    {
     "name": "stdout",
     "output_type": "stream",
     "text": [
      "this will print a story from insta\n"
     ]
    }
   ],
   "source": [
    "i.share_stories()"
   ]
  },
  {
   "cell_type": "code",
   "execution_count": 10,
   "id": "95460cf2",
   "metadata": {},
   "outputs": [
    {
     "name": "stdout",
     "output_type": "stream",
     "text": [
      "this is a fun for sharing an story for facebook\n"
     ]
    }
   ],
   "source": [
    "f.share_stories()"
   ]
  },
  {
   "cell_type": "code",
   "execution_count": 11,
   "id": "e7eb3d9b",
   "metadata": {},
   "outputs": [],
   "source": [
    "from abc import abstractmethod\n",
    "class data_project :\n",
    "    \n",
    "    @abstractmethod\n",
    "    def read_file(self) :\n",
    "        pass\n",
    "    \n",
    "    def validate_file_name(slef) :\n",
    "        pass\n",
    "    \n",
    "    def validate_datatype(self) :\n",
    "        pass\n",
    "    \n",
    "    def validate_db_connn(self) :\n",
    "        pass\n",
    "    \n",
    "    def create_connn(self) :\n",
    "        pass\n",
    "    \n",
    "    def insert_data(self) :\n",
    "        pass\n",
    "    \n",
    "    def delete_data(self):\n",
    "        pass\n",
    "    \n",
    "    def update_data(self) :\n",
    "        pass\n",
    "    \n",
    "    def perform_stats(self) :\n",
    "        pass\n",
    "    \n",
    "    def perform_eda(self) :\n",
    "        pass\n",
    "    "
   ]
  },
  {
   "cell_type": "code",
   "execution_count": 12,
   "id": "34d4fffb",
   "metadata": {},
   "outputs": [],
   "source": [
    "# Parent class1\n",
    "class Batch_number:\n",
    "    batchnumber = \"FSDS\"\n",
    "    def __init__(self,a,b,c):\n",
    "        self.a = a \n",
    "        self.b= b \n",
    "        self.c = c \n",
    "        \n",
    "    @staticmethod    \n",
    "    def batch():\n",
    "        print(\"this is static method \")\n",
    "        \n",
    "    def batch1(self):\n",
    "        print(\"this is static method batch 1 \")\n",
    "        "
   ]
  },
  {
   "cell_type": "code",
   "execution_count": 13,
   "id": "45911825",
   "metadata": {},
   "outputs": [
    {
     "name": "stdout",
     "output_type": "stream",
     "text": [
      "this is static method \n"
     ]
    }
   ],
   "source": [
    "Batch_number.batch()"
   ]
  },
  {
   "cell_type": "code",
   "execution_count": 14,
   "id": "859e6837",
   "metadata": {},
   "outputs": [],
   "source": [
    "class accountdetail :\n",
    "    account_no = \"2354535345435\"\n",
    "    def __init__(self, amount) :\n",
    "        self.amount = amount\n",
    "        \n",
    "    def show_balance(self , deduction) :\n",
    "        self.amount = self.amount - deduction\n",
    "        return self.amount ,account_no"
   ]
  },
  {
   "cell_type": "code",
   "execution_count": 15,
   "id": "2c8955f0",
   "metadata": {},
   "outputs": [
    {
     "name": "stdout",
     "output_type": "stream",
     "text": [
      "Batch : 2\n",
      "course : FSDS\n"
     ]
    }
   ],
   "source": [
    "#Multiple inheritance\n",
    " \n",
    " \n",
    "# Parent class1\n",
    "class Batch_number:\n",
    "    batchnumber = \"\"\n",
    "    def __init__(self,a,b,c):\n",
    "        self.a = a \n",
    "        self.b= b \n",
    "        self.c = c \n",
    "    #@staticmethod   \n",
    "    def batch(self):\n",
    "        print(self.batchnumber)\n",
    " \n",
    "# Parent class2\n",
    "class course_name:\n",
    "    cname = \"\"\n",
    "    def course(self):\n",
    "        print(self.cname)\n",
    " \n",
    "# Child class\n",
    "class Student(Batch_number, course_name):\n",
    "    def deets(self):\n",
    "        print(\"Batch :\", self.batchnumber)\n",
    "        print(\"course :\", self.cname)\n",
    " \n",
    "# Child class code\n",
    "s1 = Student(4,5,6)\n",
    "s1.batchnumber = \"2\"\n",
    "s1.cname = \"FSDS\"\n",
    "s1.deets()\n"
   ]
  },
  {
   "cell_type": "code",
   "execution_count": null,
   "id": "9d14c80c",
   "metadata": {},
   "outputs": [],
   "source": []
  },
  {
   "cell_type": "code",
   "execution_count": null,
   "id": "09d0f348",
   "metadata": {},
   "outputs": [],
   "source": []
  },
  {
   "cell_type": "code",
   "execution_count": null,
   "id": "53c1b6c9",
   "metadata": {},
   "outputs": [],
   "source": []
  }
 ],
 "metadata": {
  "kernelspec": {
   "display_name": "Python 3 (ipykernel)",
   "language": "python",
   "name": "python3"
  },
  "language_info": {
   "codemirror_mode": {
    "name": "ipython",
    "version": 3
   },
   "file_extension": ".py",
   "mimetype": "text/x-python",
   "name": "python",
   "nbconvert_exporter": "python",
   "pygments_lexer": "ipython3",
   "version": "3.9.7"
  }
 },
 "nbformat": 4,
 "nbformat_minor": 5
}
